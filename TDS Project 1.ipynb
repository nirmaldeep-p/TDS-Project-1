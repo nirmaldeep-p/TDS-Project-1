{
 "cells": [
  {
   "cell_type": "code",
   "execution_count": 9,
   "id": "75a10139",
   "metadata": {},
   "outputs": [
    {
     "name": "stdout",
     "output_type": "stream",
     "text": [
      "Requirement already satisfied: requests in c:\\users\\nirma\\appdata\\local\\programs\\python\\python311\\lib\\site-packages (2.31.0)\n",
      "Requirement already satisfied: charset-normalizer<4,>=2 in c:\\users\\nirma\\appdata\\local\\programs\\python\\python311\\lib\\site-packages (from requests) (3.1.0)\n",
      "Requirement already satisfied: idna<4,>=2.5 in c:\\users\\nirma\\appdata\\local\\programs\\python\\python311\\lib\\site-packages (from requests) (2.10)\n",
      "Requirement already satisfied: urllib3<3,>=1.21.1 in c:\\users\\nirma\\appdata\\local\\programs\\python\\python311\\lib\\site-packages (from requests) (2.0.3)\n",
      "Requirement already satisfied: certifi>=2017.4.17 in c:\\users\\nirma\\appdata\\local\\programs\\python\\python311\\lib\\site-packages (from requests) (2023.7.22)\n"
     ]
    },
    {
     "name": "stderr",
     "output_type": "stream",
     "text": [
      "\n",
      "[notice] A new release of pip is available: 24.0 -> 24.3.1\n",
      "[notice] To update, run: python.exe -m pip install --upgrade pip\n"
     ]
    }
   ],
   "source": [
    "!pip install requests\n"
   ]
  },
  {
   "cell_type": "markdown",
   "id": "e9dde563",
   "metadata": {},
   "source": [
    "**Complete Code**"
   ]
  },
  {
   "cell_type": "code",
   "execution_count": 1,
   "id": "18aa1b68",
   "metadata": {},
   "outputs": [],
   "source": [
    "import requests\n",
    "import csv\n",
    "\n",
    "# Your GitHub API Token\n",
    "GITHUB_API_TOKEN = 'XXXXXXXXXXXXXXXXXXXXXXXXXXXXXXXXXXXXXXXXXX'\n",
    "\n",
    "# Set headers for API authentication\n",
    "headers = {\n",
    "    'Authorization': f'token {GITHUB_API_TOKEN}'\n",
    "}\n",
    "\n",
    "# Function to get users in Mumbai with more than 50 followers\n",
    "def get_users_in_mumbai(min_followers=50):\n",
    "    url = f'https://api.github.com/search/users?q=location:mumbai+followers:>{min_followers}'\n",
    "    response = requests.get(url, headers=headers)\n",
    "    \n",
    "    if response.status_code == 200:\n",
    "        users = response.json()['items']\n",
    "        return users\n",
    "    else:\n",
    "        print(f\"Failed to fetch users: {response.status_code}\")\n",
    "        return []\n",
    "\n",
    "# Function to get detailed information about a specific user\n",
    "def get_user_details(username):\n",
    "    url = f'https://api.github.com/users/{username}'\n",
    "    response = requests.get(url, headers=headers)\n",
    "    \n",
    "    if response.status_code == 200:\n",
    "        return response.json()\n",
    "    else:\n",
    "        print(f\"Failed to fetch details for user {username}: {response.status_code}\")\n",
    "        return {}\n",
    "\n",
    "# Function to get repositories for a specific user\n",
    "def get_user_repositories(username):\n",
    "    url = f'https://api.github.com/users/{username}/repos'\n",
    "    response = requests.get(url, headers=headers)\n",
    "    \n",
    "    if response.status_code == 200:\n",
    "        return response.json()\n",
    "    else:\n",
    "        print(f\"Failed to fetch repos for user {username}: {response.status_code}\")\n",
    "        return []\n",
    "\n",
    "# Function to write users to a CSV file\n",
    "def write_users_to_csv(users_data):\n",
    "    with open('users.csv', mode='w', newline='', encoding='utf-8') as file:\n",
    "        writer = csv.DictWriter(file, fieldnames=[\n",
    "            'login', 'name', 'company', 'location', 'email', \n",
    "            'hireable', 'bio', 'public_repos', 'followers', \n",
    "            'following', 'created_at'\n",
    "        ])\n",
    "        writer.writeheader()\n",
    "        for user in users_data:\n",
    "            writer.writerow(user)\n",
    "\n",
    "# Function to write repositories to a CSV file\n",
    "def write_repositories_to_csv(repos_data):\n",
    "    with open('repositories.csv', mode='w', newline='', encoding='utf-8') as file:\n",
    "        writer = csv.DictWriter(file, fieldnames=[\n",
    "            'login', 'full_name', 'created_at', 'stargazers_count', \n",
    "            'watchers_count', 'language', 'has_projects', 'has_wiki', \n",
    "            'license_name'\n",
    "        ])\n",
    "        writer.writeheader()\n",
    "        for repo in repos_data:\n",
    "            writer.writerow(repo)\n",
    "\n",
    "# Main function\n",
    "def main():\n",
    "    # Step 1: Fetch users in Mumbai with more than 50 followers\n",
    "    users = get_users_in_mumbai(min_followers=50)\n",
    "    users_data = []\n",
    "    repos_data = []\n",
    "\n",
    "    # Step 2: Loop through each user to get detailed user info and repositories\n",
    "    for user in users:\n",
    "        user_details = get_user_details(user['login'])\n",
    "        if user_details:\n",
    "            # Clean and structure user data\n",
    "            cleaned_user = {\n",
    "                'login': user_details.get('login', ''),\n",
    "                'name': user_details.get('name', ''),\n",
    "                'company': user_details.get('company', '') if user_details.get('company') else '',  # Handle None value\n",
    "                'location': user_details.get('location', ''),\n",
    "                'email': user_details.get('email', ''),\n",
    "                'hireable': user_details.get('hireable', ''),\n",
    "                'bio': user_details.get('bio', ''),\n",
    "                'public_repos': user_details.get('public_repos', ''),\n",
    "                'followers': user_details.get('followers', ''),\n",
    "                'following': user_details.get('following', ''),\n",
    "                'created_at': user_details.get('created_at', '')\n",
    "            }\n",
    "            # Append the cleaned user data to the list\n",
    "            users_data.append(cleaned_user)\n",
    "\n",
    "            # Step 3: Fetch the repositories for each user\n",
    "            repos = get_user_repositories(user['login'])\n",
    "            for repo in repos:\n",
    "                # Clean and structure repository data\n",
    "                repos_data.append({\n",
    "                    'login': user['login'],\n",
    "                    'full_name': repo.get('full_name', ''),\n",
    "                    'created_at': repo.get('created_at', ''),\n",
    "                    'stargazers_count': repo.get('stargazers_count', 0),\n",
    "                    'watchers_count': repo.get('watchers_count', 0),\n",
    "                    'language': repo.get('language', ''),\n",
    "                    'has_projects': repo.get('has_projects', False),\n",
    "                    'has_wiki': repo.get('has_wiki', False),\n",
    "                    # Handle the NoneType license issue by checking if 'license' exists\n",
    "                    'license_name': repo['license']['key'] if repo.get('license') else ''\n",
    "                })\n",
    "\n",
    "    # Step 4: Write user data to 'users.csv'\n",
    "    write_users_to_csv(users_data)\n",
    "    \n",
    "    # Step 5: Write repositories data to 'repositories.csv'\n",
    "    write_repositories_to_csv(repos_data)\n",
    "\n",
    "# Run the main function\n",
    "if __name__ == \"__main__\":\n",
    "    main()\n"
   ]
  },
  {
   "cell_type": "code",
   "execution_count": 2,
   "id": "e0eb33ba",
   "metadata": {},
   "outputs": [
    {
     "name": "stdout",
     "output_type": "stream",
     "text": [
      "Number of users fetched: 30\n"
     ]
    }
   ],
   "source": [
    "users = get_users_in_mumbai(min_followers=50)\n",
    "print(f\"Number of users fetched: {len(users)}\")\n"
   ]
  },
  {
   "cell_type": "code",
   "execution_count": null,
   "id": "ee543853",
   "metadata": {},
   "outputs": [],
   "source": []
  }
 ],
 "metadata": {
  "kernelspec": {
   "display_name": "Python 3 (ipykernel)",
   "language": "python",
   "name": "python3"
  },
  "language_info": {
   "codemirror_mode": {
    "name": "ipython",
    "version": 3
   },
   "file_extension": ".py",
   "mimetype": "text/x-python",
   "name": "python",
   "nbconvert_exporter": "python",
   "pygments_lexer": "ipython3",
   "version": "3.11.8"
  }
 },
 "nbformat": 4,
 "nbformat_minor": 5
}
